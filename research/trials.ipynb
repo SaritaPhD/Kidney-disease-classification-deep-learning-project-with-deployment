{
  "cells": [
    {
      "cell_type": "code",
      "execution_count": 1,
      "metadata": {
        "id": "QbH-VpMeSNO7"
      },
      "outputs": [],
      "source": [
        "# config box\n",
        "d = {\"key\":\"val\", \"key1\":\"val1\"}"
      ]
    },
    {
      "cell_type": "code",
      "execution_count": 2,
      "metadata": {
        "colab": {
          "base_uri": "https://localhost:8080/",
          "height": 35
        },
        "id": "HtRg-LyJSNO8",
        "outputId": "c8ea6508-d079-42a2-fba2-6f81d1da9d53"
      },
      "outputs": [
        {
          "output_type": "execute_result",
          "data": {
            "text/plain": [
              "'val1'"
            ],
            "application/vnd.google.colaboratory.intrinsic+json": {
              "type": "string"
            }
          },
          "metadata": {},
          "execution_count": 2
        }
      ],
      "source": [
        "d['key1']"
      ]
    },
    {
      "cell_type": "code",
      "execution_count": 5,
      "metadata": {
        "id": "vcDGBjyfSNO-"
      },
      "outputs": [],
      "source": [
        "from box import ConfigBox"
      ]
    },
    {
      "cell_type": "code",
      "execution_count": 6,
      "metadata": {
        "id": "-O5FMYCQSNO-"
      },
      "outputs": [],
      "source": [
        "d2 = ConfigBox({\"key\":\"val\", \"key1\":\"val1\"})"
      ]
    },
    {
      "cell_type": "code",
      "execution_count": 7,
      "metadata": {
        "colab": {
          "base_uri": "https://localhost:8080/",
          "height": 35
        },
        "id": "g5tfMt2eSNO-",
        "outputId": "74ddf1fb-229d-4fef-a5a9-33a4f1302c02"
      },
      "outputs": [
        {
          "output_type": "execute_result",
          "data": {
            "text/plain": [
              "'val1'"
            ],
            "application/vnd.google.colaboratory.intrinsic+json": {
              "type": "string"
            }
          },
          "metadata": {},
          "execution_count": 7
        }
      ],
      "source": [
        "d2.key1"
      ]
    },
    {
      "cell_type": "code",
      "execution_count": 8,
      "metadata": {
        "colab": {
          "base_uri": "https://localhost:8080/"
        },
        "id": "k0p1wxSYSNO_",
        "outputId": "4c018c3f-8679-49b0-a8ee-929029ccfeed"
      },
      "outputs": [
        {
          "output_type": "execute_result",
          "data": {
            "text/plain": [
              "box.config_box.ConfigBox"
            ]
          },
          "metadata": {},
          "execution_count": 8
        }
      ],
      "source": [
        "type(d2)"
      ]
    },
    {
      "cell_type": "code",
      "execution_count": 9,
      "metadata": {
        "colab": {
          "base_uri": "https://localhost:8080/"
        },
        "id": "liP25U7kSNO_",
        "outputId": "06ff0d40-a519-4d2c-c9be-437c7351081f"
      },
      "outputs": [
        {
          "output_type": "execute_result",
          "data": {
            "text/plain": [
              "dict"
            ]
          },
          "metadata": {},
          "execution_count": 9
        }
      ],
      "source": [
        "type(d)"
      ]
    },
    {
      "cell_type": "code",
      "execution_count": 10,
      "metadata": {
        "id": "vBzzlIcbSNO_"
      },
      "outputs": [],
      "source": [
        "# ensure annotations\n",
        "\n",
        "def get_prodict(x:int, y:int) -> int:\n",
        "    return x*y"
      ]
    },
    {
      "cell_type": "code",
      "execution_count": 11,
      "metadata": {
        "colab": {
          "base_uri": "https://localhost:8080/"
        },
        "id": "5QA4SSUTSNPA",
        "outputId": "885a87d0-6455-4a44-db1f-8db91d8f0119"
      },
      "outputs": [
        {
          "output_type": "execute_result",
          "data": {
            "text/plain": [
              "6"
            ]
          },
          "metadata": {},
          "execution_count": 11
        }
      ],
      "source": [
        "get_prodict(x=2, y=3)"
      ]
    },
    {
      "cell_type": "code",
      "execution_count": 12,
      "metadata": {
        "colab": {
          "base_uri": "https://localhost:8080/",
          "height": 35
        },
        "id": "EA0hPlr6SNPA",
        "outputId": "0605048e-cdd9-4101-b34c-a35df18b4a28"
      },
      "outputs": [
        {
          "output_type": "execute_result",
          "data": {
            "text/plain": [
              "'33'"
            ],
            "application/vnd.google.colaboratory.intrinsic+json": {
              "type": "string"
            }
          },
          "metadata": {},
          "execution_count": 12
        }
      ],
      "source": [
        "get_prodict(x=2, y=\"3\")"
      ]
    },
    {
      "cell_type": "code",
      "source": [
        "!pip install ensure"
      ],
      "metadata": {
        "colab": {
          "base_uri": "https://localhost:8080/"
        },
        "id": "q0un61NvShgP",
        "outputId": "52ba9e01-5d93-495c-c127-92d8349b0b70"
      },
      "execution_count": 15,
      "outputs": [
        {
          "output_type": "stream",
          "name": "stdout",
          "text": [
            "Collecting ensure\n",
            "  Downloading ensure-1.0.4-py3-none-any.whl.metadata (10 kB)\n",
            "Requirement already satisfied: six>=1.11.0 in /usr/local/lib/python3.10/dist-packages (from ensure) (1.16.0)\n",
            "Downloading ensure-1.0.4-py3-none-any.whl (15 kB)\n",
            "Installing collected packages: ensure\n",
            "Successfully installed ensure-1.0.4\n"
          ]
        }
      ]
    },
    {
      "cell_type": "code",
      "execution_count": 16,
      "metadata": {
        "id": "cQXB9obZSNPA"
      },
      "outputs": [],
      "source": [
        "from ensure import ensure_annotations"
      ]
    },
    {
      "cell_type": "code",
      "execution_count": 17,
      "metadata": {
        "id": "5RopbpvNSNPA"
      },
      "outputs": [],
      "source": [
        "@ensure_annotations\n",
        "def get_prodict(x:int, y:int) -> int:\n",
        "    return x*y"
      ]
    },
    {
      "cell_type": "code",
      "execution_count": 18,
      "metadata": {
        "colab": {
          "base_uri": "https://localhost:8080/"
        },
        "id": "DOyql9tgSNPA",
        "outputId": "1a6a3e88-9781-4707-a53e-d8ac52cb2c02"
      },
      "outputs": [
        {
          "output_type": "execute_result",
          "data": {
            "text/plain": [
              "6"
            ]
          },
          "metadata": {},
          "execution_count": 18
        }
      ],
      "source": [
        "get_prodict(x=2, y=3)"
      ]
    },
    {
      "cell_type": "markdown",
      "metadata": {
        "id": "_nn_xAcmSNPB"
      },
      "source": [
        "## Donwload data from gdrive"
      ]
    },
    {
      "cell_type": "code",
      "execution_count": 20,
      "metadata": {
        "id": "MZydE9u2SNPC"
      },
      "outputs": [],
      "source": [
        "import gdown"
      ]
    },
    {
      "cell_type": "code",
      "execution_count": 21,
      "metadata": {
        "id": "-O58LtPJSNPC"
      },
      "outputs": [],
      "source": [
        "url=\"https://drive.google.com/file/d/1vlhZ5c7abUKF8xXERIw6m9Te8fW7ohw3/view?usp=sharing\""
      ]
    },
    {
      "cell_type": "code",
      "execution_count": 22,
      "metadata": {
        "colab": {
          "base_uri": "https://localhost:8080/",
          "height": 35
        },
        "id": "80E8laKUSNPC",
        "outputId": "c1890470-618c-4b7b-cddd-3f82cc89e0c0"
      },
      "outputs": [
        {
          "output_type": "execute_result",
          "data": {
            "text/plain": [
              "'1vlhZ5c7abUKF8xXERIw6m9Te8fW7ohw3'"
            ],
            "application/vnd.google.colaboratory.intrinsic+json": {
              "type": "string"
            }
          },
          "metadata": {},
          "execution_count": 22
        }
      ],
      "source": [
        "file_id = url.split(\"/\")[-2]\n",
        "file_id"
      ]
    },
    {
      "cell_type": "code",
      "execution_count": 23,
      "metadata": {
        "colab": {
          "base_uri": "https://localhost:8080/",
          "height": 125
        },
        "id": "acVIrezVSNPC",
        "outputId": "477aa2cf-acfa-4137-fcf4-8fbd44d487ea"
      },
      "outputs": [
        {
          "output_type": "stream",
          "name": "stderr",
          "text": [
            "Downloading...\n",
            "From (original): https://drive.google.com/uc?/export=download&id=1vlhZ5c7abUKF8xXERIw6m9Te8fW7ohw3\n",
            "From (redirected): https://drive.google.com/uc?%2Fexport=download&id=1vlhZ5c7abUKF8xXERIw6m9Te8fW7ohw3&confirm=t&uuid=14bd12a9-e4de-468a-9e93-552ab69821d7\n",
            "To: /content/kidney-CT-Scan-data.zip\n",
            "100%|██████████| 57.7M/57.7M [00:02<00:00, 28.4MB/s]\n"
          ]
        },
        {
          "output_type": "execute_result",
          "data": {
            "text/plain": [
              "'kidney-CT-Scan-data.zip'"
            ],
            "application/vnd.google.colaboratory.intrinsic+json": {
              "type": "string"
            }
          },
          "metadata": {},
          "execution_count": 23
        }
      ],
      "source": [
        "prefix = 'https://drive.google.com/uc?/export=download&id='\n",
        "gdown.download(prefix+file_id, \"kidney-CT-Scan-data.zip\")"
      ]
    },
    {
      "cell_type": "code",
      "execution_count": null,
      "metadata": {
        "id": "9jLnzaynSNPC"
      },
      "outputs": [],
      "source": []
    }
  ],
  "metadata": {
    "kernelspec": {
      "display_name": "kidney",
      "language": "python",
      "name": "python3"
    },
    "language_info": {
      "codemirror_mode": {
        "name": "ipython",
        "version": 3
      },
      "file_extension": ".py",
      "mimetype": "text/x-python",
      "name": "python",
      "nbconvert_exporter": "python",
      "pygments_lexer": "ipython3",
      "version": "3.8.18"
    },
    "orig_nbformat": 4,
    "colab": {
      "provenance": []
    }
  },
  "nbformat": 4,
  "nbformat_minor": 0
}