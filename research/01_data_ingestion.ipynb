{
  "cells": [
    {
      "cell_type": "code",
      "execution_count": 1,
      "metadata": {
        "id": "wHNkrwBXP7HM"
      },
      "outputs": [],
      "source": [
        "import os"
      ]
    },
    {
      "cell_type": "code",
      "execution_count": 2,
      "metadata": {
        "colab": {
          "base_uri": "https://localhost:8080/",
          "height": 35
        },
        "id": "bmkYEly7P7HN",
        "outputId": "fb1a07cb-0d7d-47c8-e2ce-3dc81eac73e4"
      },
      "outputs": [
        {
          "output_type": "execute_result",
          "data": {
            "text/plain": [
              "'/content'"
            ],
            "application/vnd.google.colaboratory.intrinsic+json": {
              "type": "string"
            }
          },
          "metadata": {},
          "execution_count": 2
        }
      ],
      "source": [
        "%pwd"
      ]
    },
    {
      "cell_type": "code",
      "execution_count": 3,
      "metadata": {
        "id": "n0lT80H4P7HO"
      },
      "outputs": [],
      "source": [
        "os.chdir(\"../\")"
      ]
    },
    {
      "cell_type": "code",
      "execution_count": 4,
      "metadata": {
        "colab": {
          "base_uri": "https://localhost:8080/",
          "height": 35
        },
        "id": "g9BPJTe4P7HO",
        "outputId": "26356b84-1c97-406f-eaa4-43ac0b30e204"
      },
      "outputs": [
        {
          "output_type": "execute_result",
          "data": {
            "text/plain": [
              "'/'"
            ],
            "application/vnd.google.colaboratory.intrinsic+json": {
              "type": "string"
            }
          },
          "metadata": {},
          "execution_count": 4
        }
      ],
      "source": [
        "%pwd"
      ]
    },
    {
      "cell_type": "code",
      "execution_count": 5,
      "metadata": {
        "id": "hMZ1O26pP7HP"
      },
      "outputs": [],
      "source": [
        "from dataclasses import dataclass\n",
        "from pathlib import Path\n",
        "\n",
        "\n",
        "@dataclass(frozen=True)\n",
        "class DataIngestionConfig:\n",
        "    root_dir: Path\n",
        "    source_URL: str\n",
        "    local_data_file: Path\n",
        "    unzip_dir: Path"
      ]
    },
    {
      "cell_type": "code",
      "source": [
        "import sys\n",
        "\n",
        "# Get the current working directory\n",
        "current_dir = os.getcwd()\n",
        "\n",
        "# Construct the path to the cnnClassifier module\n",
        "cnnClassifier_path = os.path.join(current_dir, 'cnnClassifier')\n",
        "\n",
        "# Add the path to the Python path\n",
        "sys.path.append(cnnClassifier_path)"
      ],
      "metadata": {
        "id": "8u1ZUlUPQZv5"
      },
      "execution_count": 7,
      "outputs": []
    },
    {
      "cell_type": "code",
      "execution_count": 12,
      "metadata": {
        "id": "FZ2ikONpP7HQ"
      },
      "outputs": [],
      "source": [
        "import os\n",
        "import sys\n",
        "\n",
        "# Get the current working directory\n",
        "current_dir = os.getcwd()\n",
        "\n",
        "# Construct the path to the cnnClassifier module\n",
        "cnnClassifier_path = os.path.join(current_dir, 'cnnClassifier')\n",
        "\n",
        "# Add the path to the Python path\n",
        "sys.path.append(cnnClassifier_path)\n",
        "\n",
        "#Verify the path is added correctly\n",
        "print(sys.path)\n",
        "\n",
        "from cnnClassifier.constants import *\n",
        "from cnnClassifier.utils.common import read_yaml, create_directories\n",
        "\n",
        "\n",
        "\n",
        "\n"
      ]
    },
    {
      "cell_type": "code",
      "execution_count": 13,
      "metadata": {
        "id": "2tGaYcKlP7HR"
      },
      "outputs": [],
      "source": [
        "class ConfigurationManager:\n",
        "    def __init__(\n",
        "        self,\n",
        "        config_filepath = CONFIG_FILE_PATH,\n",
        "        params_filepath = PARAMS_FILE_PATH):\n",
        "\n",
        "        self.config = read_yaml(config_filepath)\n",
        "        self.params = read_yaml(params_filepath)\n",
        "\n",
        "        create_directories([self.config.artifacts_root])\n",
        "\n",
        "\n",
        "\n",
        "    def get_data_ingestion_config(self) -> DataIngestionConfig:\n",
        "        config = self.config.data_ingestion\n",
        "\n",
        "        create_directories([config.root_dir])\n",
        "\n",
        "        data_ingestion_config = DataIngestionConfig(\n",
        "            root_dir=config.root_dir,\n",
        "            source_URL=config.source_URL,\n",
        "            local_data_file=config.local_data_file,\n",
        "            unzip_dir=config.unzip_dir\n",
        "        )\n",
        "\n",
        "        return data_ingestion_config"
      ]
    },
    {
      "cell_type": "code",
      "execution_count": null,
      "metadata": {
        "id": "3NuGyVdEP7HS"
      },
      "outputs": [],
      "source": [
        "import os\n",
        "import zipfile\n",
        "import gdown\n",
        "from cnnClassifier import logger\n",
        "from cnnClassifier.utils.common import get_size"
      ]
    },
    {
      "cell_type": "code",
      "execution_count": null,
      "metadata": {
        "id": "_oaFhlvYP7HT"
      },
      "outputs": [],
      "source": [
        "class DataIngestion:\n",
        "    def __init__(self, config: DataIngestionConfig):\n",
        "        self.config = config\n",
        "\n",
        "\n",
        "    def download_file(self)-> str:\n",
        "        '''\n",
        "        Fetch data from the url\n",
        "        '''\n",
        "\n",
        "        try:\n",
        "            dataset_url = self.config.source_URL\n",
        "            zip_download_dir = self.config.local_data_file\n",
        "            os.makedirs(\"artifacts/data_ingestion\", exist_ok=True)\n",
        "            logger.info(f\"Downloading data from {dataset_url} into file {zip_download_dir}\")\n",
        "\n",
        "            file_id = dataset_url.split(\"/\")[-2]\n",
        "            prefix = 'https://drive.google.com/uc?/export=download&id='\n",
        "            gdown.download(prefix+file_id,zip_download_dir)\n",
        "\n",
        "            logger.info(f\"Downloaded data from {dataset_url} into file {zip_download_dir}\")\n",
        "\n",
        "        except Exception as e:\n",
        "            raise e\n",
        "\n",
        "\n",
        "\n",
        "    def extract_zip_file(self):\n",
        "        \"\"\"\n",
        "        zip_file_path: str\n",
        "        Extracts the zip file into the data directory\n",
        "        Function returns None\n",
        "        \"\"\"\n",
        "        unzip_path = self.config.unzip_dir\n",
        "        os.makedirs(unzip_path, exist_ok=True)\n",
        "        with zipfile.ZipFile(self.config.local_data_file, 'r') as zip_ref:\n",
        "            zip_ref.extractall(unzip_path)\n",
        "\n"
      ]
    },
    {
      "cell_type": "code",
      "execution_count": null,
      "metadata": {
        "id": "dNQj90xAP7HU"
      },
      "outputs": [],
      "source": [
        "try:\n",
        "    config = ConfigurationManager()\n",
        "    data_ingestion_config = config.get_data_ingestion_config()\n",
        "    data_ingestion = DataIngestion(config=data_ingestion_config)\n",
        "    data_ingestion.download_file()\n",
        "    data_ingestion.extract_zip_file()\n",
        "except Exception as e:\n",
        "    raise e"
      ]
    },
    {
      "cell_type": "code",
      "execution_count": null,
      "metadata": {
        "id": "8PdBTZRTP7HU"
      },
      "outputs": [],
      "source": []
    }
  ],
  "metadata": {
    "kernelspec": {
      "display_name": "kidney",
      "language": "python",
      "name": "python3"
    },
    "language_info": {
      "codemirror_mode": {
        "name": "ipython",
        "version": 3
      },
      "file_extension": ".py",
      "mimetype": "text/x-python",
      "name": "python",
      "nbconvert_exporter": "python",
      "pygments_lexer": "ipython3",
      "version": "3.8.18"
    },
    "orig_nbformat": 4,
    "colab": {
      "provenance": []
    }
  },
  "nbformat": 4,
  "nbformat_minor": 0
}